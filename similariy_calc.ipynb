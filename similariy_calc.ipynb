{
 "cells": [
  {
   "cell_type": "code",
   "execution_count": 3,
   "metadata": {},
   "outputs": [],
   "source": [
    "import pandas as pd\n",
    "from sklearn.metrics.pairwise import cosine_similarity\n",
    "import numpy as np\n",
    "\n",
    "# read the main.csv file into a dataframe\n",
    "df = pd.read_csv('main.csv')\n",
    "\n",
    "# create a pivot table with userId as the index, title as the columns, and rating as the values\n",
    "pivot = pd.pivot_table(df, index='userId', columns='title', values='rating')\n",
    "\n",
    "# fill the missing values with 0\n",
    "pivot = pivot.fillna(0)\n",
    "\n",
    "# compute the cosine similarity matrix\n",
    "similarity_matrix = cosine_similarity(pivot.T)\n"
   ]
  },
  {
   "cell_type": "code",
   "execution_count": 5,
   "metadata": {},
   "outputs": [],
   "source": [
    "np.savetxt(\"similarity_matrix.npy\", similarity_matrix, delimiter=\",\")\n"
   ]
  },
  {
   "cell_type": "code",
   "execution_count": null,
   "metadata": {},
   "outputs": [],
   "source": []
  }
 ],
 "metadata": {
  "kernelspec": {
   "display_name": "base",
   "language": "python",
   "name": "python3"
  },
  "language_info": {
   "codemirror_mode": {
    "name": "ipython",
    "version": 3
   },
   "file_extension": ".py",
   "mimetype": "text/x-python",
   "name": "python",
   "nbconvert_exporter": "python",
   "pygments_lexer": "ipython3",
   "version": "3.10.9"
  },
  "orig_nbformat": 4
 },
 "nbformat": 4,
 "nbformat_minor": 2
}
